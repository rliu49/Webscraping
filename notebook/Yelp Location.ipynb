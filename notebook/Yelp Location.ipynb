{
 "cells": [
  {
   "cell_type": "code",
   "execution_count": 21,
   "metadata": {},
   "outputs": [],
   "source": [
    "from bs4 import BeautifulSoup\n",
    "import requests\n",
    "from lxml import html\n",
    "from urllib.request import Request, urlopen\n",
    "import urllib.request\n",
    "from selenium import webdriver"
   ]
  },
  {
   "cell_type": "code",
   "execution_count": 22,
   "metadata": {},
   "outputs": [],
   "source": [
    "location = \"New Orleans\""
   ]
  },
  {
   "cell_type": "code",
   "execution_count": 23,
   "metadata": {},
   "outputs": [],
   "source": [
    "def getLinkList(location):\n",
    "    url = \"https://www.yelp.com/\"\n",
    "    page = requests.get(url)\n",
    "\n",
    "    #Browser\n",
    "\n",
    "    options = webdriver.ChromeOptions()\n",
    "    options.add_argument('--headless')\n",
    "\n",
    "    browser = webdriver.Chrome(executable_path = \"/Users/zishuoli/Documents/projects/webscraping/chromedriver\",options=options)\n",
    "\n",
    "    browser.get(url)    \n",
    "    innerHTML = browser.page_source    \n",
    "\n",
    "    soup = BeautifulSoup(innerHTML,'lxml')\n",
    "\n",
    "     \n",
    "    locationButton = browser.find_element_by_id(\"dropperText_Mast\")\n",
    "\n",
    "    locationButton.send_keys(location)   \n",
    "\n",
    "    searchButton = browser.find_element_by_id(\"header-search-submit\")\n",
    "\n",
    "    searchButton.click()\n",
    "\n",
    "    #Rest in New Orleans\n",
    "    restNO = browser.current_url\n",
    "        \n",
    "    innerHTML1 = browser.page_source\n",
    "\n",
    "    soupChild = BeautifulSoup(innerHTML1,'lxml')\n",
    "\n",
    "    linkList = soupChild.select(\".indexed-biz-name\")\n",
    "    return linkList\n"
   ]
  },
  {
   "cell_type": "code",
   "execution_count": 24,
   "metadata": {},
   "outputs": [],
   "source": [
    "def getDicRest(linkList):\n",
    "    \n",
    "    dictRest = {}\n",
    "\n",
    "    for tag in linkList:\n",
    "        titleRest = tag.text\n",
    "        resthref = tag.find(\"a\").attrs.get(\"href\")\n",
    "\n",
    "        baseurl = \"http://www.yelp.com\"\n",
    "        restLink = baseurl + resthref\n",
    "\n",
    "        dictRest[titleRest] = restLink\n",
    "\n",
    "    return dictRest"
   ]
  },
  {
   "cell_type": "code",
   "execution_count": 25,
   "metadata": {},
   "outputs": [],
   "source": [
    "def mimicbrowser(url):\n",
    "    options = webdriver.ChromeOptions()\n",
    "    options.add_argument('--headless')\n",
    "\n",
    "    browser = webdriver.Chrome(executable_path = \"/Users/zishuoli/Documents/projects/webscraping/chromedriver\",options=options)\n",
    "\n",
    "    browser.get(url)\n",
    "    innerHTML = browser.page_source\n",
    "    browser.close()\n",
    "    return innerHTML"
   ]
  },
  {
   "cell_type": "code",
   "execution_count": 26,
   "metadata": {},
   "outputs": [],
   "source": [
    "def getReviewFromRestUrl(url):\n",
    "    pageContent = mimicbrowser(url)\n",
    "    \n",
    "    soupReview = BeautifulSoup(pageContent,'lxml')\n",
    "    reviewcontent = soupReview.select(\".review-content\")\n",
    "    ReviewList = []\n",
    "    for tag in reviewcontent:\n",
    "        tmpReview = tag.find('p').text\n",
    "        ReviewList.append(tmpReview)\n",
    "\n",
    "    return ReviewList\n",
    "    "
   ]
  },
  {
   "cell_type": "code",
   "execution_count": 27,
   "metadata": {},
   "outputs": [],
   "source": [
    "def loopOverDicRest(dictRest):\n",
    "    dicReview = {}\n",
    "    for rest in dictRest.keys():\n",
    "        dicReview[rest] = getReviewFromRestUrl(dictRest[rest])\n",
    "        print(rest)\n",
    "    return dicReview"
   ]
  },
  {
   "cell_type": "code",
   "execution_count": 28,
   "metadata": {},
   "outputs": [],
   "source": [
    "def main(location):\n",
    "    \n",
    "    linkList = getLinkList(location)\n",
    "    \n",
    "    DictRest = getDicRest(linkList) \n",
    "    print(DictRest)\n",
    "    \n",
    "    answer = loopOverDicRest(DictRest)\n",
    "    \n",
    "    return answer"
   ]
  },
  {
   "cell_type": "code",
   "execution_count": 29,
   "metadata": {},
   "outputs": [
    {
     "name": "stdout",
     "output_type": "stream",
     "text": [
      "{'1. \\n\\n\\n        Café Du Monde\\n': 'http://www.yelp.com/biz/caf%C3%A9-du-monde-new-orleans-12', '2. \\n\\n\\n        Cochon Butcher\\n': 'http://www.yelp.com/biz/cochon-butcher-new-orleans-2', '3. \\n\\n\\n        Acme Oyster House\\n': 'http://www.yelp.com/biz/acme-oyster-house-new-orleans', '4. \\n\\n\\n        Commander’s Palace\\n': 'http://www.yelp.com/biz/commanders-palace-new-orleans-2', '5. \\n\\n\\n        Luke\\n': 'http://www.yelp.com/biz/luke-new-orleans-3', '6. \\n\\n\\n        Cochon\\n': 'http://www.yelp.com/biz/cochon-new-orleans-3', '7. \\n\\n\\n        Ruby Slipper Cafe - Central Business District\\n': 'http://www.yelp.com/biz/ruby-slipper-cafe-central-business-district-new-orleans', '8. \\n\\n\\n        Oceana Grill\\n': 'http://www.yelp.com/biz/oceana-grill-new-orleans-4', '9. \\n\\n\\n        GW Fins\\n': 'http://www.yelp.com/biz/gw-fins-new-orleans-2', '10. \\n\\n\\n        Surrey’s Café & Juice Bar\\n': 'http://www.yelp.com/biz/surreys-caf%C3%A9-and-juice-bar-new-orleans-2'}\n",
      "1. \n",
      "\n",
      "\n",
      "        Café Du Monde\n",
      "\n",
      "2. \n",
      "\n",
      "\n",
      "        Cochon Butcher\n",
      "\n",
      "3. \n",
      "\n",
      "\n",
      "        Acme Oyster House\n",
      "\n",
      "4. \n",
      "\n",
      "\n",
      "        Commander’s Palace\n",
      "\n",
      "5. \n",
      "\n",
      "\n",
      "        Luke\n",
      "\n",
      "6. \n",
      "\n",
      "\n",
      "        Cochon\n",
      "\n",
      "7. \n",
      "\n",
      "\n",
      "        Ruby Slipper Cafe - Central Business District\n",
      "\n",
      "8. \n",
      "\n",
      "\n",
      "        Oceana Grill\n",
      "\n",
      "9. \n",
      "\n",
      "\n",
      "        GW Fins\n",
      "\n",
      "10. \n",
      "\n",
      "\n",
      "        Surrey’s Café & Juice Bar\n",
      "\n"
     ]
    }
   ],
   "source": [
    "final = main(location)"
   ]
  },
  {
   "cell_type": "code",
   "execution_count": 30,
   "metadata": {},
   "outputs": [
    {
     "data": {
      "text/plain": [
       "['1. \\n\\n\\n        Café Du Monde\\n',\n",
       " '2. \\n\\n\\n        Cochon Butcher\\n',\n",
       " '3. \\n\\n\\n        Acme Oyster House\\n',\n",
       " '4. \\n\\n\\n        Commander’s Palace\\n',\n",
       " '5. \\n\\n\\n        Luke\\n',\n",
       " '6. \\n\\n\\n        Cochon\\n',\n",
       " '7. \\n\\n\\n        Ruby Slipper Cafe - Central Business District\\n',\n",
       " '8. \\n\\n\\n        Oceana Grill\\n',\n",
       " '9. \\n\\n\\n        GW Fins\\n',\n",
       " '10. \\n\\n\\n        Surrey’s Café & Juice Bar\\n']"
      ]
     },
     "execution_count": 30,
     "metadata": {},
     "output_type": "execute_result"
    }
   ],
   "source": [
    "list(final.keys())"
   ]
  },
  {
   "cell_type": "code",
   "execution_count": null,
   "metadata": {},
   "outputs": [],
   "source": []
  }
 ],
 "metadata": {
  "kernelspec": {
   "display_name": "Python 3",
   "language": "python",
   "name": "python3"
  },
  "language_info": {
   "codemirror_mode": {
    "name": "ipython",
    "version": 3
   },
   "file_extension": ".py",
   "mimetype": "text/x-python",
   "name": "python",
   "nbconvert_exporter": "python",
   "pygments_lexer": "ipython3",
   "version": "3.7.0"
  }
 },
 "nbformat": 4,
 "nbformat_minor": 2
}
