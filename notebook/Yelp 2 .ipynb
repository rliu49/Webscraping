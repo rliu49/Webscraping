{
 "cells": [
  {
   "cell_type": "code",
   "execution_count": 50,
   "metadata": {},
   "outputs": [],
   "source": [
    "from bs4 import BeautifulSoup\n",
    "import requests\n",
    "from lxml import html\n",
    "from urllib.request import Request, urlopen\n",
    "import urllib.request\n",
    "from selenium import webdriver"
   ]
  },
  {
   "cell_type": "code",
   "execution_count": 58,
   "metadata": {},
   "outputs": [],
   "source": [
    "url = \"https://www.yelp.com/search?find_desc=&find_loc=Downtown%2C+Boston%2C+MA+02228&ns=1\" "
   ]
  },
  {
   "cell_type": "code",
   "execution_count": 71,
   "metadata": {},
   "outputs": [],
   "source": [
    "# find the rest name and link and write a dictionary \n",
    "def get_dicRest(url):\n",
    "\n",
    "    pageBoston = requests.get(url)\n",
    "    soupBoston = BeautifulSoup(pageBoston.text,'lxml')\n",
    "    linkList = soupBoston.select(\".lemon--h3__373c0__5Q5tF.heading--h3__373c0__1n4Of.alternate__373c0__1uacp\")\n",
    "    print(linkList)\n",
    "    \n",
    "    dicRest = {}\n",
    "    \n",
    "    for tag in linkList:\n",
    "        restName = tag.text\n",
    "        \n",
    "        baseurl = \"https://www.yelp.com/\"\n",
    "        hrefLink = tag.find(\"a\").attrs.get(\"href\")\n",
    "        \n",
    "        restLink = baseurl + hrefLink\n",
    "        \n",
    "        dicRest[restName] = restLink\n",
    "        \n",
    "    return dicRest"
   ]
  },
  {
   "cell_type": "code",
   "execution_count": 72,
   "metadata": {},
   "outputs": [
    {
     "name": "stdout",
     "output_type": "stream",
     "text": [
      "[<h3 class=\"lemon--h3__373c0__5Q5tF heading--h3__373c0__1n4Of alternate__373c0__1uacp\">1<!-- -->. <a class=\"lemon--a__373c0__1_OnJ link__373c0__29943 link-color--blue-dark__373c0__1mhJo link-size--inherit__373c0__2JXk5\" href=\"/biz/neptune-oyster-boston\" name=\"\" rel=\"\" target=\"\">Neptune Oyster</a></h3>, <h3 class=\"lemon--h3__373c0__5Q5tF heading--h3__373c0__1n4Of alternate__373c0__1uacp\">2<!-- -->. <a class=\"lemon--a__373c0__1_OnJ link__373c0__29943 link-color--blue-dark__373c0__1mhJo link-size--inherit__373c0__2JXk5\" href=\"/biz/mikes-pastry-boston\" name=\"\" rel=\"\" target=\"\">Mike’s Pastry</a></h3>, <h3 class=\"lemon--h3__373c0__5Q5tF heading--h3__373c0__1n4Of alternate__373c0__1uacp\">3<!-- -->. <a class=\"lemon--a__373c0__1_OnJ link__373c0__29943 link-color--blue-dark__373c0__1mhJo link-size--inherit__373c0__2JXk5\" href=\"/biz/sam-lagrassas-boston-3\" name=\"\" rel=\"\" target=\"\">Sam LaGrassa’s</a></h3>, <h3 class=\"lemon--h3__373c0__5Q5tF heading--h3__373c0__1n4Of alternate__373c0__1uacp\">4<!-- -->. <a class=\"lemon--a__373c0__1_OnJ link__373c0__29943 link-color--blue-dark__373c0__1mhJo link-size--inherit__373c0__2JXk5\" href=\"/biz/piperi-mediterranean-grill-boston\" name=\"\" rel=\"\" target=\"\">Piperi Mediterranean Grill</a></h3>, <h3 class=\"lemon--h3__373c0__5Q5tF heading--h3__373c0__1n4Of alternate__373c0__1uacp\">5<!-- -->. <a class=\"lemon--a__373c0__1_OnJ link__373c0__29943 link-color--blue-dark__373c0__1mhJo link-size--inherit__373c0__2JXk5\" href=\"/biz/giacomos-ristorante-boston\" name=\"\" rel=\"\" target=\"\">Giacomo’s Ristorante</a></h3>, <h3 class=\"lemon--h3__373c0__5Q5tF heading--h3__373c0__1n4Of alternate__373c0__1uacp\">6<!-- -->. <a class=\"lemon--a__373c0__1_OnJ link__373c0__29943 link-color--blue-dark__373c0__1mhJo link-size--inherit__373c0__2JXk5\" href=\"/biz/marliave-boston\" name=\"\" rel=\"\" target=\"\">Marliave</a></h3>, <h3 class=\"lemon--h3__373c0__5Q5tF heading--h3__373c0__1n4Of alternate__373c0__1uacp\">7<!-- -->. <a class=\"lemon--a__373c0__1_OnJ link__373c0__29943 link-color--blue-dark__373c0__1mhJo link-size--inherit__373c0__2JXk5\" href=\"/biz/saus-boston\" name=\"\" rel=\"\" target=\"\">Saus</a></h3>, <h3 class=\"lemon--h3__373c0__5Q5tF heading--h3__373c0__1n4Of alternate__373c0__1uacp\">8<!-- -->. <a class=\"lemon--a__373c0__1_OnJ link__373c0__29943 link-color--blue-dark__373c0__1mhJo link-size--inherit__373c0__2JXk5\" href=\"/biz/modern-pastry-shop-boston\" name=\"\" rel=\"\" target=\"\">Modern Pastry Shop</a></h3>, <h3 class=\"lemon--h3__373c0__5Q5tF heading--h3__373c0__1n4Of alternate__373c0__1uacp\">9<!-- -->. <a class=\"lemon--a__373c0__1_OnJ link__373c0__29943 link-color--blue-dark__373c0__1mhJo link-size--inherit__373c0__2JXk5\" href=\"/biz/carmelinas-boston-2\" name=\"\" rel=\"\" target=\"\">Carmelina’s</a></h3>, <h3 class=\"lemon--h3__373c0__5Q5tF heading--h3__373c0__1n4Of alternate__373c0__1uacp\">10<!-- -->. <a class=\"lemon--a__373c0__1_OnJ link__373c0__29943 link-color--blue-dark__373c0__1mhJo link-size--inherit__373c0__2JXk5\" href=\"/biz/shawarma-falafel-boston\" name=\"\" rel=\"\" target=\"\">Shawarma Falafel</a></h3>]\n"
     ]
    },
    {
     "data": {
      "text/plain": [
       "{'1.\\xa0Neptune Oyster': 'https://www.yelp.com//biz/neptune-oyster-boston',\n",
       " '2.\\xa0Mike’s Pastry': 'https://www.yelp.com//biz/mikes-pastry-boston',\n",
       " '3.\\xa0Sam LaGrassa’s': 'https://www.yelp.com//biz/sam-lagrassas-boston-3',\n",
       " '4.\\xa0Piperi Mediterranean Grill': 'https://www.yelp.com//biz/piperi-mediterranean-grill-boston',\n",
       " '5.\\xa0Giacomo’s Ristorante': 'https://www.yelp.com//biz/giacomos-ristorante-boston',\n",
       " '6.\\xa0Marliave': 'https://www.yelp.com//biz/marliave-boston',\n",
       " '7.\\xa0Saus': 'https://www.yelp.com//biz/saus-boston',\n",
       " '8.\\xa0Modern Pastry Shop': 'https://www.yelp.com//biz/modern-pastry-shop-boston',\n",
       " '9.\\xa0Carmelina’s': 'https://www.yelp.com//biz/carmelinas-boston-2',\n",
       " '10.\\xa0Shawarma Falafel': 'https://www.yelp.com//biz/shawarma-falafel-boston'}"
      ]
     },
     "execution_count": 72,
     "metadata": {},
     "output_type": "execute_result"
    }
   ],
   "source": [
    "get_dicRest(url)"
   ]
  },
  {
   "cell_type": "code",
   "execution_count": 70,
   "metadata": {},
   "outputs": [
    {
     "name": "stdout",
     "output_type": "stream",
     "text": [
      "[<h3 class=\"lemon--h3__373c0__5Q5tF heading--h3__373c0__1n4Of alternate__373c0__1uacp\">1<!-- -->. <a class=\"lemon--a__373c0__1_OnJ link__373c0__29943 link-color--blue-dark__373c0__1mhJo link-size--inherit__373c0__2JXk5\" href=\"/biz/neptune-oyster-boston\" name=\"\" rel=\"\" target=\"\">Neptune Oyster</a></h3>, <h3 class=\"lemon--h3__373c0__5Q5tF heading--h3__373c0__1n4Of alternate__373c0__1uacp\">2<!-- -->. <a class=\"lemon--a__373c0__1_OnJ link__373c0__29943 link-color--blue-dark__373c0__1mhJo link-size--inherit__373c0__2JXk5\" href=\"/biz/mikes-pastry-boston\" name=\"\" rel=\"\" target=\"\">Mike’s Pastry</a></h3>, <h3 class=\"lemon--h3__373c0__5Q5tF heading--h3__373c0__1n4Of alternate__373c0__1uacp\">3<!-- -->. <a class=\"lemon--a__373c0__1_OnJ link__373c0__29943 link-color--blue-dark__373c0__1mhJo link-size--inherit__373c0__2JXk5\" href=\"/biz/sam-lagrassas-boston-3\" name=\"\" rel=\"\" target=\"\">Sam LaGrassa’s</a></h3>, <h3 class=\"lemon--h3__373c0__5Q5tF heading--h3__373c0__1n4Of alternate__373c0__1uacp\">4<!-- -->. <a class=\"lemon--a__373c0__1_OnJ link__373c0__29943 link-color--blue-dark__373c0__1mhJo link-size--inherit__373c0__2JXk5\" href=\"/biz/piperi-mediterranean-grill-boston\" name=\"\" rel=\"\" target=\"\">Piperi Mediterranean Grill</a></h3>, <h3 class=\"lemon--h3__373c0__5Q5tF heading--h3__373c0__1n4Of alternate__373c0__1uacp\">5<!-- -->. <a class=\"lemon--a__373c0__1_OnJ link__373c0__29943 link-color--blue-dark__373c0__1mhJo link-size--inherit__373c0__2JXk5\" href=\"/biz/giacomos-ristorante-boston\" name=\"\" rel=\"\" target=\"\">Giacomo’s Ristorante</a></h3>, <h3 class=\"lemon--h3__373c0__5Q5tF heading--h3__373c0__1n4Of alternate__373c0__1uacp\">6<!-- -->. <a class=\"lemon--a__373c0__1_OnJ link__373c0__29943 link-color--blue-dark__373c0__1mhJo link-size--inherit__373c0__2JXk5\" href=\"/biz/marliave-boston\" name=\"\" rel=\"\" target=\"\">Marliave</a></h3>, <h3 class=\"lemon--h3__373c0__5Q5tF heading--h3__373c0__1n4Of alternate__373c0__1uacp\">7<!-- -->. <a class=\"lemon--a__373c0__1_OnJ link__373c0__29943 link-color--blue-dark__373c0__1mhJo link-size--inherit__373c0__2JXk5\" href=\"/biz/saus-boston\" name=\"\" rel=\"\" target=\"\">Saus</a></h3>, <h3 class=\"lemon--h3__373c0__5Q5tF heading--h3__373c0__1n4Of alternate__373c0__1uacp\">8<!-- -->. <a class=\"lemon--a__373c0__1_OnJ link__373c0__29943 link-color--blue-dark__373c0__1mhJo link-size--inherit__373c0__2JXk5\" href=\"/biz/modern-pastry-shop-boston\" name=\"\" rel=\"\" target=\"\">Modern Pastry Shop</a></h3>, <h3 class=\"lemon--h3__373c0__5Q5tF heading--h3__373c0__1n4Of alternate__373c0__1uacp\">9<!-- -->. <a class=\"lemon--a__373c0__1_OnJ link__373c0__29943 link-color--blue-dark__373c0__1mhJo link-size--inherit__373c0__2JXk5\" href=\"/biz/carmelinas-boston-2\" name=\"\" rel=\"\" target=\"\">Carmelina’s</a></h3>, <h3 class=\"lemon--h3__373c0__5Q5tF heading--h3__373c0__1n4Of alternate__373c0__1uacp\">10<!-- -->. <a class=\"lemon--a__373c0__1_OnJ link__373c0__29943 link-color--blue-dark__373c0__1mhJo link-size--inherit__373c0__2JXk5\" href=\"/biz/shawarma-falafel-boston\" name=\"\" rel=\"\" target=\"\">Shawarma Falafel</a></h3>]\n"
     ]
    }
   ],
   "source": [
    "pageBoston = requests.get(url)\n",
    "soupBoston = BeautifulSoup(pageBoston.text,'lxml')\n",
    "linkList = soupBoston.select(\".lemon--h3__373c0__5Q5tF.heading--h3__373c0__1n4Of.alternate__373c0__1uacp\")\n",
    "print(linkList)"
   ]
  },
  {
   "cell_type": "code",
   "execution_count": 76,
   "metadata": {},
   "outputs": [
    {
     "data": {
      "text/plain": [
       "' https://www.yelp.com/search?find_desc=&find_loc=Downtown, Boston, MA 02228&ns=1'"
      ]
     },
     "execution_count": 76,
     "metadata": {},
     "output_type": "execute_result"
    }
   ],
   "source": [
    "location = \"Downtown, Boston, MA 02228\"\n",
    "f' https://www.yelp.com/search?find_desc=&find_loc={location}&ns=1'"
   ]
  },
  {
   "cell_type": "code",
   "execution_count": null,
   "metadata": {},
   "outputs": [],
   "source": []
  }
 ],
 "metadata": {
  "kernelspec": {
   "display_name": "Python 3",
   "language": "python",
   "name": "python3"
  },
  "language_info": {
   "codemirror_mode": {
    "name": "ipython",
    "version": 3
   },
   "file_extension": ".py",
   "mimetype": "text/x-python",
   "name": "python",
   "nbconvert_exporter": "python",
   "pygments_lexer": "ipython3",
   "version": "3.7.0"
  }
 },
 "nbformat": 4,
 "nbformat_minor": 2
}
