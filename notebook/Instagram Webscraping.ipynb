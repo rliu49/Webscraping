{
 "cells": [
  {
   "cell_type": "code",
   "execution_count": 69,
   "metadata": {},
   "outputs": [],
   "source": [
    "from bs4 import BeautifulSoup\n",
    "import requests\n",
    "from lxml import html\n",
    "from urllib.request import Request, urlopen\n",
    "import urllib.request\n",
    "from selenium import webdriver\n",
    "import os"
   ]
  },
  {
   "cell_type": "code",
   "execution_count": 70,
   "metadata": {},
   "outputs": [],
   "source": [
    "url = \"https://www.instagram.com\"\n",
    "\n",
    "options = webdriver.ChromeOptions()\n",
    "options.add_argument('--headless')\n",
    "\n",
    "browser = webdriver.Chrome(executable_path=\"/Users/zishuoli/Documents/projects/webscraping/chromedriver\")\n",
    "\n",
    "browser.get(url)\n",
    "innerHTML = browser.page_source\n",
    "\n",
    "soup = BeautifulSoup(innerHTML,'lxml')"
   ]
  },
  {
   "cell_type": "code",
   "execution_count": 71,
   "metadata": {},
   "outputs": [
    {
     "data": {
      "text/plain": [
       "[<p class=\"izU2O\">Have an account? <a href=\"/accounts/login/?source=auth_switcher\">Log in</a></p>]"
      ]
     },
     "execution_count": 71,
     "metadata": {},
     "output_type": "execute_result"
    }
   ],
   "source": [
    "#Find Login Button\n",
    "soup.select(\".izU2O\")"
   ]
  },
  {
   "cell_type": "code",
   "execution_count": 72,
   "metadata": {},
   "outputs": [
    {
     "data": {
      "text/plain": [
       "'/accounts/login/?source=auth_switcher'"
      ]
     },
     "execution_count": 72,
     "metadata": {},
     "output_type": "execute_result"
    }
   ],
   "source": [
    "loginUrl = soup.select(\".izU2O\")[0].find('a').attrs.get('href')\n",
    "loginUrl"
   ]
  },
  {
   "cell_type": "code",
   "execution_count": 73,
   "metadata": {},
   "outputs": [
    {
     "data": {
      "text/plain": [
       "'https://www.instagram.com/accounts/login/?source=auth_switcher'"
      ]
     },
     "execution_count": 73,
     "metadata": {},
     "output_type": "execute_result"
    }
   ],
   "source": [
    "url + loginUrl"
   ]
  },
  {
   "cell_type": "code",
   "execution_count": 74,
   "metadata": {},
   "outputs": [],
   "source": [
    "loginP = browser.find_element_by_css_selector(\".izU2O\")"
   ]
  },
  {
   "cell_type": "code",
   "execution_count": 75,
   "metadata": {},
   "outputs": [],
   "source": [
    "loginP.find_element_by_tag_name('a').click()"
   ]
  },
  {
   "cell_type": "code",
   "execution_count": 76,
   "metadata": {},
   "outputs": [],
   "source": [
    "username = browser.find_element_by_name(\"username\")\n",
    "password = browser.find_element_by_name(\"password\")"
   ]
  },
  {
   "cell_type": "code",
   "execution_count": 77,
   "metadata": {},
   "outputs": [],
   "source": [
    "username.send_keys(\"sherryliu1994@msn.cn\")\n",
    "password.send_keys(\"19941118Lrf\")"
   ]
  },
  {
   "cell_type": "code",
   "execution_count": 78,
   "metadata": {},
   "outputs": [],
   "source": [
    "loginButton = browser.find_elements_by_tag_name('button')"
   ]
  },
  {
   "cell_type": "code",
   "execution_count": 79,
   "metadata": {},
   "outputs": [
    {
     "data": {
      "text/plain": [
       "3"
      ]
     },
     "execution_count": 79,
     "metadata": {},
     "output_type": "execute_result"
    }
   ],
   "source": [
    "len(loginButton)"
   ]
  },
  {
   "cell_type": "code",
   "execution_count": 80,
   "metadata": {},
   "outputs": [],
   "source": [
    "browser.find_element_by_xpath('//button[text()=\"Log in\"]').click()"
   ]
  },
  {
   "cell_type": "code",
   "execution_count": 82,
   "metadata": {},
   "outputs": [],
   "source": [
    "try: \n",
    "    browser.find_element_by_xpath('//button[text()=\"Not Now\"]').click()\n",
    "except:\n",
    "    pass"
   ]
  },
  {
   "cell_type": "code",
   "execution_count": 83,
   "metadata": {},
   "outputs": [],
   "source": [
    "innerHTML = browser.page_source"
   ]
  },
  {
   "cell_type": "code",
   "execution_count": 84,
   "metadata": {},
   "outputs": [],
   "source": [
    "soup = BeautifulSoup(innerHTML,'html')"
   ]
  },
  {
   "cell_type": "code",
   "execution_count": 86,
   "metadata": {},
   "outputs": [
    {
     "data": {
      "text/plain": [
       "[<li class=\"gElp9 \"><div class=\"P9YgZ\"><div class=\"C7I1f X7jCj\"><div class=\"C4VMK\"><h2 class=\"_6lAjh\"><a class=\"FPmhX notranslate TlrDj\" href=\"/synge112/\" title=\"synge112\">synge112</a></h2><span><span>啊~喜欢♥</span><button class=\"sXUSN _0mzm- sqdOP yWX7d \" type=\"button\"> more</button></span></div></div></div></li>,\n",
       " <li class=\"gElp9 \"><div class=\"P9YgZ\"><div class=\"C7I1f \"><div class=\"C4VMK\"><h3 class=\"_6lAjh\"><a class=\"FPmhX notranslate TlrDj\" href=\"/rick0530/\" title=\"rick0530\">rick0530</a></h3><span><span>这只146出镜率太高了</span></span></div></div><span class=\"jdtwu\"><button class=\"_2ic5v\"><span aria-label=\"Like\" class=\"glyphsSpriteComment_like u-__7\"></span></button></span></div></li>,\n",
       " <li class=\"gElp9 \"><div class=\"P9YgZ\"><div class=\"C7I1f \"><div class=\"C4VMK\"><h3 class=\"_6lAjh\"><a class=\"FPmhX notranslate TlrDj\" href=\"/edenpai/\" title=\"edenpai\">edenpai</a></h3><span><span><a class=\"notranslate\" href=\"/chickawww/\">@chickawww</a> 可以在FB搜尋小島匠所</span></span></div></div><span class=\"jdtwu\"><button class=\"_2ic5v\"><span aria-label=\"Like\" class=\"glyphsSpriteComment_like u-__7\"></span></button></span></div></li>,\n",
       " <li class=\"gElp9 \"><div class=\"P9YgZ\"><div class=\"C7I1f \"><div class=\"C4VMK\"><h3 class=\"_6lAjh\"><a class=\"FPmhX notranslate TlrDj\" href=\"/synge112/\" title=\"synge112\">synge112</a></h3><span><span><a class=\"notranslate\" href=\"/rick0530/\">@rick0530</a> 这个是百乐哦</span></span></div></div><span class=\"jdtwu\"><button class=\"_2ic5v\"><span aria-label=\"Like\" class=\"glyphsSpriteComment_like u-__7\"></span></button></span></div></li>,\n",
       " <li class=\"gElp9 \"><div class=\"P9YgZ\"><div class=\"C7I1f \"><div class=\"C4VMK\"><h3 class=\"_6lAjh\"><a class=\"FPmhX notranslate TlrDj\" href=\"/little_cookiekieeee/\" title=\"little_cookiekieeee\">little_cookiekieeee</a></h3><span><span>嘿嘿嘿俺预测这本TN会是闷闷新宠</span></span></div></div><span class=\"jdtwu\"><button class=\"_2ic5v\"><span aria-label=\"Like\" class=\"glyphsSpriteComment_like u-__7\"></span></button></span></div></li>,\n",
       " <li class=\"gElp9 \"><div class=\"P9YgZ\"><div class=\"C7I1f X7jCj\"><div class=\"C4VMK\"><h2 class=\"_6lAjh\"><a class=\"FPmhX notranslate TlrDj\" href=\"/eventyr/\" title=\"eventyr\">eventyr</a></h2><span><span>Landscapes of Norway</span></span></div></div></div></li>,\n",
       " <li class=\"gElp9 \"><div class=\"P9YgZ\"><div class=\"C7I1f \"><div class=\"C4VMK\"><h3 class=\"_6lAjh\"><a class=\"FPmhX notranslate TlrDj\" href=\"/schragcl/\" title=\"schragcl\">schragcl</a></h3><span><span>Helt fantastisk bilde!</span></span></div></div><span class=\"jdtwu\"><button class=\"_2ic5v\"><span aria-label=\"Like\" class=\"glyphsSpriteComment_like u-__7\"></span></button></span></div></li>,\n",
       " <li class=\"gElp9 \"><div class=\"P9YgZ\"><div class=\"C7I1f \"><div class=\"C4VMK\"><h3 class=\"_6lAjh\"><a class=\"FPmhX notranslate TlrDj\" href=\"/flannaganbarbara/\" title=\"flannaganbarbara\">flannaganbarbara</a></h3><span><span>Breathtaking!</span></span></div></div><span class=\"jdtwu\"><button class=\"_2ic5v\"><span aria-label=\"Like\" class=\"glyphsSpriteComment_like u-__7\"></span></button></span></div></li>,\n",
       " <li class=\"gElp9 \"><div class=\"P9YgZ\"><div class=\"C7I1f \"><div class=\"C4VMK\"><h3 class=\"_6lAjh\"><a class=\"FPmhX notranslate TlrDj\" href=\"/or_gus_tus_/\" title=\"or_gus_tus_\">or_gus_tus_</a></h3><span><span><a class=\"notranslate\" href=\"/cool_pics_of_my_dog/\">@cool_pics_of_my_dog</a> Think one can see Munkebu at the top of this</span></span></div></div><span class=\"jdtwu\"><button class=\"_2ic5v\"><span aria-label=\"Like\" class=\"glyphsSpriteComment_like u-__7\"></span></button></span></div></li>,\n",
       " <li class=\"gElp9 \"><div class=\"P9YgZ\"><div class=\"C7I1f \"><div class=\"C4VMK\"><h3 class=\"_6lAjh\"><a class=\"FPmhX notranslate TlrDj\" href=\"/rannvajoensen/\" title=\"rannvajoensen\">rannvajoensen</a></h3><span><span>Norway is just way to beautiful 🔥</span></span></div></div><span class=\"jdtwu\"><button class=\"_2ic5v\"><span aria-label=\"Like\" class=\"glyphsSpriteComment_like u-__7\"></span></button></span></div></li>,\n",
       " <li class=\"gElp9 \"><div class=\"P9YgZ\"><div class=\"C7I1f X7jCj\"><div class=\"C4VMK\"><h2 class=\"_6lAjh\"><a class=\"FPmhX notranslate TlrDj\" href=\"/lotteriz/\" title=\"lotteriz\">lotteriz</a></h2><span><span>Love here.</span></span></div></div></div></li>,\n",
       " <li class=\"gElp9 \"><div class=\"P9YgZ\"><div class=\"C7I1f \"><div class=\"C4VMK\"><h3 class=\"_6lAjh\"><a class=\"FPmhX notranslate TlrDj\" href=\"/lotteriz/\" title=\"lotteriz\">lotteriz</a></h3><span><span>.</span><button class=\"sXUSN _0mzm- sqdOP yWX7d \" type=\"button\"> more</button></span></div></div><span class=\"jdtwu\"><button class=\"_2ic5v\"><span aria-label=\"Like\" class=\"glyphsSpriteComment_like u-__7\"></span></button></span></div></li>,\n",
       " <li class=\"gElp9 \"><div class=\"P9YgZ\"><div class=\"C7I1f \"><div class=\"C4VMK\"><h3 class=\"_6lAjh\"><a class=\"FPmhX notranslate TlrDj\" href=\"/yinanscottshi/\" title=\"yinanscottshi\">yinanscottshi</a></h3><span><span>Better weather than <a href=\"/explore/tags/raincouver/\">#raincouver</a></span></span></div></div><span class=\"jdtwu\"><button class=\"_2ic5v\"><span aria-label=\"Like\" class=\"glyphsSpriteComment_like u-__7\"></span></button></span></div></li>,\n",
       " <li class=\"gElp9 \"><div class=\"P9YgZ\"><div class=\"C7I1f \"><div class=\"C4VMK\"><h3 class=\"_6lAjh\"><a class=\"FPmhX notranslate TlrDj\" href=\"/lotteriz/\" title=\"lotteriz\">lotteriz</a></h3><span><span><a class=\"notranslate\" href=\"/yinanscottshi/\">@yinanscottshi</a> It rained before. I miss raincouver tho. 😝</span></span></div></div><span class=\"jdtwu\"><button class=\"_2ic5v\"><span aria-label=\"Like\" class=\"glyphsSpriteComment_like u-__7\"></span></button></span></div></li>,\n",
       " <li class=\"gElp9 \"><div class=\"P9YgZ\"><div class=\"C7I1f X7jCj\"><div class=\"C4VMK\"><h2 class=\"_6lAjh\"><a class=\"FPmhX notranslate TlrDj\" href=\"/cristiano/\" title=\"cristiano\">cristiano</a></h2><span><span>👌</span></span></div></div></div></li>,\n",
       " <li class=\"gElp9 \"><div class=\"P9YgZ\"><div class=\"C7I1f \"><div class=\"C4VMK\"><h3 class=\"_6lAjh\"><a class=\"FPmhX notranslate TlrDj\" href=\"/ibrahim_algondi/\" title=\"ibrahim_algondi\">ibrahim_algondi</a></h3><span><span>باهي فهمنا النم قداش مرة بتنزل المنشور. اني مسجل أكثر منك في دوري أصعب من اللي تلعب فيهم وعمري ما نزلت منشور 😏</span></span></div></div><span class=\"jdtwu\"><button class=\"_2ic5v\"><span aria-label=\"Like\" class=\"glyphsSpriteComment_like u-__7\"></span></button></span></div></li>,\n",
       " <li class=\"gElp9 \"><div class=\"P9YgZ\"><div class=\"C7I1f \"><div class=\"C4VMK\"><h3 class=\"_6lAjh\"><a class=\"FPmhX notranslate TlrDj\" href=\"/mortez4033/\" title=\"mortez4033\">mortez4033</a></h3><span><span>👏👏👏👏👏</span></span></div></div><span class=\"jdtwu\"><button class=\"_2ic5v\"><span aria-label=\"Like\" class=\"glyphsSpriteComment_like u-__7\"></span></button></span></div></li>,\n",
       " <li class=\"gElp9 \"><div class=\"P9YgZ\"><div class=\"C7I1f \"><div class=\"C4VMK\"><h3 class=\"_6lAjh\"><a class=\"FPmhX notranslate TlrDj\" href=\"/mohsenmoslemdoost/\" title=\"mohsenmoslemdoost\">mohsenmoslemdoost</a></h3><span><span>plz flw me</span></span></div></div><span class=\"jdtwu\"><button class=\"_2ic5v\"><span aria-label=\"Like\" class=\"glyphsSpriteComment_like u-__7\"></span></button></span></div></li>,\n",
       " <li class=\"gElp9 \"><div class=\"P9YgZ\"><div class=\"C7I1f \"><div class=\"C4VMK\"><h3 class=\"_6lAjh\"><a class=\"FPmhX notranslate TlrDj\" href=\"/queen__of__madrid/\" title=\"queen__of__madrid\">queen__of__madrid</a></h3><span><span>👏💓😍..</span></span></div></div><span class=\"jdtwu\"><button class=\"_2ic5v\"><span aria-label=\"Like\" class=\"glyphsSpriteComment_like u-__7\"></span></button></span></div></li>,\n",
       " <li class=\"gElp9 \"><div class=\"P9YgZ\"><div class=\"C7I1f X7jCj\"><div class=\"C4VMK\"><h2 class=\"_6lAjh\"><a class=\"FPmhX notranslate TlrDj\" href=\"/rosies.sketchbook/\" title=\"rosies.sketchbook\">rosies.sketchbook</a></h2><span><span>More experimenting with watercolour pencils and I’m actually not too sure why I painted a plastic bag 😅.</span><button class=\"sXUSN _0mzm- sqdOP yWX7d \" type=\"button\"> more</button></span></div></div></div></li>,\n",
       " <li class=\"gElp9 \"><div class=\"P9YgZ\"><div class=\"C7I1f \"><div class=\"C4VMK\"><h3 class=\"_6lAjh\"><a class=\"FPmhX notranslate TlrDj\" href=\"/illustellar/\" title=\"illustellar\">illustellar</a></h3><span><span><a class=\"notranslate\" href=\"/jchismstudios/\">@jchismstudios</a> I thought so too!!!😁</span></span></div></div><span class=\"jdtwu\"><button class=\"_2ic5v\"><span aria-label=\"Like\" class=\"glyphsSpriteComment_like u-__7\"></span></button></span></div></li>,\n",
       " <li class=\"gElp9 \"><div class=\"P9YgZ\"><div class=\"C7I1f \"><div class=\"C4VMK\"><h3 class=\"_6lAjh\"><a class=\"FPmhX notranslate TlrDj\" href=\"/browneyed_girl1/\" title=\"browneyed_girl1\">browneyed_girl1</a></h3><span><span><a class=\"notranslate\" href=\"/nutmeg_grace/\">@nutmeg_grace</a></span></span></div></div><span class=\"jdtwu\"><button class=\"_2ic5v\"><span aria-label=\"Like\" class=\"glyphsSpriteComment_like u-__7\"></span></button></span></div></li>,\n",
       " <li class=\"gElp9 \"><div class=\"P9YgZ\"><div class=\"C7I1f \"><div class=\"C4VMK\"><h3 class=\"_6lAjh\"><a class=\"FPmhX notranslate TlrDj\" href=\"/shibbythrash/\" title=\"shibbythrash\">shibbythrash</a></h3><span><span>This is lovely. Makes me think of plastic in the ocean so very moving piece.</span></span></div></div><span class=\"jdtwu\"><button class=\"_2ic5v\"><span aria-label=\"Like\" class=\"glyphsSpriteComment_like u-__7\"></span></button></span></div></li>,\n",
       " <li class=\"gElp9 \"><div class=\"P9YgZ\"><div class=\"C7I1f \"><div class=\"C4VMK\"><h3 class=\"_6lAjh\"><a class=\"FPmhX notranslate TlrDj\" href=\"/colour.love.draws/\" title=\"colour.love.draws\">colour.love.draws</a></h3><span><span>Amazing 💙💙</span></span></div></div><span class=\"jdtwu\"><button class=\"_2ic5v\"><span aria-label=\"Like\" class=\"glyphsSpriteComment_like u-__7\"></span></button></span></div></li>]"
      ]
     },
     "execution_count": 86,
     "metadata": {},
     "output_type": "execute_result"
    }
   ],
   "source": [
    "soup.select(\".gElp9 \")"
   ]
  },
  {
   "cell_type": "code",
   "execution_count": 87,
   "metadata": {},
   "outputs": [
    {
     "data": {
      "text/plain": [
       "[<div class=\"C4VMK\"><h2 class=\"_6lAjh\"><a class=\"FPmhX notranslate TlrDj\" href=\"/synge112/\" title=\"synge112\">synge112</a></h2><span><span>啊~喜欢♥</span><button class=\"sXUSN _0mzm- sqdOP yWX7d \" type=\"button\"> more</button></span></div>,\n",
       " <div class=\"C4VMK\"><h3 class=\"_6lAjh\"><a class=\"FPmhX notranslate TlrDj\" href=\"/rick0530/\" title=\"rick0530\">rick0530</a></h3><span><span>这只146出镜率太高了</span></span></div>,\n",
       " <div class=\"C4VMK\"><h3 class=\"_6lAjh\"><a class=\"FPmhX notranslate TlrDj\" href=\"/edenpai/\" title=\"edenpai\">edenpai</a></h3><span><span><a class=\"notranslate\" href=\"/chickawww/\">@chickawww</a> 可以在FB搜尋小島匠所</span></span></div>,\n",
       " <div class=\"C4VMK\"><h3 class=\"_6lAjh\"><a class=\"FPmhX notranslate TlrDj\" href=\"/synge112/\" title=\"synge112\">synge112</a></h3><span><span><a class=\"notranslate\" href=\"/rick0530/\">@rick0530</a> 这个是百乐哦</span></span></div>,\n",
       " <div class=\"C4VMK\"><h3 class=\"_6lAjh\"><a class=\"FPmhX notranslate TlrDj\" href=\"/little_cookiekieeee/\" title=\"little_cookiekieeee\">little_cookiekieeee</a></h3><span><span>嘿嘿嘿俺预测这本TN会是闷闷新宠</span></span></div>,\n",
       " <div class=\"C4VMK\"><h2 class=\"_6lAjh\"><a class=\"FPmhX notranslate TlrDj\" href=\"/eventyr/\" title=\"eventyr\">eventyr</a></h2><span><span>Landscapes of Norway</span></span></div>,\n",
       " <div class=\"C4VMK\"><h3 class=\"_6lAjh\"><a class=\"FPmhX notranslate TlrDj\" href=\"/schragcl/\" title=\"schragcl\">schragcl</a></h3><span><span>Helt fantastisk bilde!</span></span></div>,\n",
       " <div class=\"C4VMK\"><h3 class=\"_6lAjh\"><a class=\"FPmhX notranslate TlrDj\" href=\"/flannaganbarbara/\" title=\"flannaganbarbara\">flannaganbarbara</a></h3><span><span>Breathtaking!</span></span></div>,\n",
       " <div class=\"C4VMK\"><h3 class=\"_6lAjh\"><a class=\"FPmhX notranslate TlrDj\" href=\"/or_gus_tus_/\" title=\"or_gus_tus_\">or_gus_tus_</a></h3><span><span><a class=\"notranslate\" href=\"/cool_pics_of_my_dog/\">@cool_pics_of_my_dog</a> Think one can see Munkebu at the top of this</span></span></div>,\n",
       " <div class=\"C4VMK\"><h3 class=\"_6lAjh\"><a class=\"FPmhX notranslate TlrDj\" href=\"/rannvajoensen/\" title=\"rannvajoensen\">rannvajoensen</a></h3><span><span>Norway is just way to beautiful 🔥</span></span></div>,\n",
       " <div class=\"C4VMK\"><h2 class=\"_6lAjh\"><a class=\"FPmhX notranslate TlrDj\" href=\"/lotteriz/\" title=\"lotteriz\">lotteriz</a></h2><span><span>Love here.</span></span></div>,\n",
       " <div class=\"C4VMK\"><h3 class=\"_6lAjh\"><a class=\"FPmhX notranslate TlrDj\" href=\"/lotteriz/\" title=\"lotteriz\">lotteriz</a></h3><span><span>.</span><button class=\"sXUSN _0mzm- sqdOP yWX7d \" type=\"button\"> more</button></span></div>,\n",
       " <div class=\"C4VMK\"><h3 class=\"_6lAjh\"><a class=\"FPmhX notranslate TlrDj\" href=\"/yinanscottshi/\" title=\"yinanscottshi\">yinanscottshi</a></h3><span><span>Better weather than <a href=\"/explore/tags/raincouver/\">#raincouver</a></span></span></div>,\n",
       " <div class=\"C4VMK\"><h3 class=\"_6lAjh\"><a class=\"FPmhX notranslate TlrDj\" href=\"/lotteriz/\" title=\"lotteriz\">lotteriz</a></h3><span><span><a class=\"notranslate\" href=\"/yinanscottshi/\">@yinanscottshi</a> It rained before. I miss raincouver tho. 😝</span></span></div>,\n",
       " <div class=\"C4VMK\"><h2 class=\"_6lAjh\"><a class=\"FPmhX notranslate TlrDj\" href=\"/cristiano/\" title=\"cristiano\">cristiano</a></h2><span><span>👌</span></span></div>,\n",
       " <div class=\"C4VMK\"><h3 class=\"_6lAjh\"><a class=\"FPmhX notranslate TlrDj\" href=\"/ibrahim_algondi/\" title=\"ibrahim_algondi\">ibrahim_algondi</a></h3><span><span>باهي فهمنا النم قداش مرة بتنزل المنشور. اني مسجل أكثر منك في دوري أصعب من اللي تلعب فيهم وعمري ما نزلت منشور 😏</span></span></div>,\n",
       " <div class=\"C4VMK\"><h3 class=\"_6lAjh\"><a class=\"FPmhX notranslate TlrDj\" href=\"/mortez4033/\" title=\"mortez4033\">mortez4033</a></h3><span><span>👏👏👏👏👏</span></span></div>,\n",
       " <div class=\"C4VMK\"><h3 class=\"_6lAjh\"><a class=\"FPmhX notranslate TlrDj\" href=\"/mohsenmoslemdoost/\" title=\"mohsenmoslemdoost\">mohsenmoslemdoost</a></h3><span><span>plz flw me</span></span></div>,\n",
       " <div class=\"C4VMK\"><h3 class=\"_6lAjh\"><a class=\"FPmhX notranslate TlrDj\" href=\"/queen__of__madrid/\" title=\"queen__of__madrid\">queen__of__madrid</a></h3><span><span>👏💓😍..</span></span></div>,\n",
       " <div class=\"C4VMK\"><h2 class=\"_6lAjh\"><a class=\"FPmhX notranslate TlrDj\" href=\"/rosies.sketchbook/\" title=\"rosies.sketchbook\">rosies.sketchbook</a></h2><span><span>More experimenting with watercolour pencils and I’m actually not too sure why I painted a plastic bag 😅.</span><button class=\"sXUSN _0mzm- sqdOP yWX7d \" type=\"button\"> more</button></span></div>,\n",
       " <div class=\"C4VMK\"><h3 class=\"_6lAjh\"><a class=\"FPmhX notranslate TlrDj\" href=\"/illustellar/\" title=\"illustellar\">illustellar</a></h3><span><span><a class=\"notranslate\" href=\"/jchismstudios/\">@jchismstudios</a> I thought so too!!!😁</span></span></div>,\n",
       " <div class=\"C4VMK\"><h3 class=\"_6lAjh\"><a class=\"FPmhX notranslate TlrDj\" href=\"/browneyed_girl1/\" title=\"browneyed_girl1\">browneyed_girl1</a></h3><span><span><a class=\"notranslate\" href=\"/nutmeg_grace/\">@nutmeg_grace</a></span></span></div>,\n",
       " <div class=\"C4VMK\"><h3 class=\"_6lAjh\"><a class=\"FPmhX notranslate TlrDj\" href=\"/shibbythrash/\" title=\"shibbythrash\">shibbythrash</a></h3><span><span>This is lovely. Makes me think of plastic in the ocean so very moving piece.</span></span></div>,\n",
       " <div class=\"C4VMK\"><h3 class=\"_6lAjh\"><a class=\"FPmhX notranslate TlrDj\" href=\"/colour.love.draws/\" title=\"colour.love.draws\">colour.love.draws</a></h3><span><span>Amazing 💙💙</span></span></div>]"
      ]
     },
     "execution_count": 87,
     "metadata": {},
     "output_type": "execute_result"
    }
   ],
   "source": [
    "soup.select(\".C4VMK\")"
   ]
  },
  {
   "cell_type": "code",
   "execution_count": null,
   "metadata": {},
   "outputs": [],
   "source": []
  }
 ],
 "metadata": {
  "kernelspec": {
   "display_name": "Python 3",
   "language": "python",
   "name": "python3"
  },
  "language_info": {
   "codemirror_mode": {
    "name": "ipython",
    "version": 3
   },
   "file_extension": ".py",
   "mimetype": "text/x-python",
   "name": "python",
   "nbconvert_exporter": "python",
   "pygments_lexer": "ipython3",
   "version": "3.7.0"
  }
 },
 "nbformat": 4,
 "nbformat_minor": 2
}
