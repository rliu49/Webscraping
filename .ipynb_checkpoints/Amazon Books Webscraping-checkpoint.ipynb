{
 "cells": [
  {
   "cell_type": "code",
   "execution_count": 150,
   "metadata": {},
   "outputs": [],
   "source": [
    "from bs4 import BeautifulSoup\n",
    "import requests\n",
    "from lxml import html\n",
    "from urllib.request import Request, urlopen\n",
    "import urllib.request\n",
    "from selenium import webdriver\n",
    "import pprint\n",
    "import pandas as pd"
   ]
  },
  {
   "cell_type": "code",
   "execution_count": 94,
   "metadata": {},
   "outputs": [],
   "source": [
    "url = \"https://www.amazon.com/b/ref=gbpp_itr_m-3_01bf_Arts&Pho?node=1&ie=UTF8\"\n",
    "\n",
    "\n",
    "page =  requests.get(url)"
   ]
  },
  {
   "cell_type": "code",
   "execution_count": 95,
   "metadata": {},
   "outputs": [],
   "source": [
    "#Browser\n",
    "\n",
    "options = webdriver.ChromeOptions()\n",
    "options.add_argument('--headless')\n",
    "\n",
    "browser = webdriver.Chrome(executable_path = \"/Users/zishuoli/Documents/projects/webscraping/chromedriver\")\n",
    "\n",
    "browser.get(url)\n",
    "innerHTML = browser.page_source\n",
    "\n",
    "soup = BeautifulSoup(innerHTML,'lxml')\n",
    "\n",
    "\n",
    "\n",
    "\n"
   ]
  },
  {
   "cell_type": "code",
   "execution_count": 91,
   "metadata": {},
   "outputs": [],
   "source": [
    "linkList = soup.select(\".herf\")"
   ]
  },
  {
   "cell_type": "code",
   "execution_count": null,
   "metadata": {},
   "outputs": [],
   "source": [
    "tmpPath = link.find(\"a\").attrs.get(\"href\")"
   ]
  },
  {
   "cell_type": "code",
   "execution_count": 96,
   "metadata": {},
   "outputs": [],
   "source": [
    "bookRow = soup.select(\".a-row.a-spacing-none\")"
   ]
  },
  {
   "cell_type": "code",
   "execution_count": null,
   "metadata": {},
   "outputs": [],
   "source": []
  },
  {
   "cell_type": "code",
   "execution_count": 99,
   "metadata": {
    "scrolled": true
   },
   "outputs": [],
   "source": [
    "#Book Title\n",
    "\n",
    "list1 = soup.select(\".a-link-normal.s-access-detail-page.s-color-twister-title-link.a-text-normal\")\n",
    "\n",
    "\n"
   ]
  },
  {
   "cell_type": "code",
   "execution_count": 110,
   "metadata": {},
   "outputs": [
    {
     "data": {
      "text/plain": [
       "\"Hindsight: & All the Things I Can't See in Front of Me\""
      ]
     },
     "execution_count": 110,
     "metadata": {},
     "output_type": "execute_result"
    }
   ],
   "source": [
    "list1[2].text"
   ]
  },
  {
   "cell_type": "code",
   "execution_count": 101,
   "metadata": {},
   "outputs": [
    {
     "data": {
      "text/plain": [
       "'https://www.amazon.com/Homebody-Guide-Creating-Spaces-Never/dp/006280197X/ref=lp_1_1_1/136-4231815-0885743?s=books&ie=UTF8&qid=1541910523&sr=1-1'"
      ]
     },
     "execution_count": 101,
     "metadata": {},
     "output_type": "execute_result"
    }
   ],
   "source": [
    "list1[0].attrs.get('href')"
   ]
  },
  {
   "cell_type": "markdown",
   "metadata": {},
   "source": [
    "### 1 get all href and text simutanousely\n",
    "\n",
    "### 2 save them to dictionary, dic = {} dic[bookname] = href"
   ]
  },
  {
   "cell_type": "code",
   "execution_count": 145,
   "metadata": {},
   "outputs": [],
   "source": [
    "dicBook = {}\n",
    "\n",
    "for link in list1:\n",
    "    bookLink = link.attrs.get(\"href\")\n",
    "    bookTitle = link.text\n",
    "\n",
    "    dicBook[bookTitle] = bookLink\n"
   ]
  },
  {
   "cell_type": "code",
   "execution_count": 153,
   "metadata": {},
   "outputs": [
    {
     "data": {
      "text/html": [
       "<div>\n",
       "<style scoped>\n",
       "    .dataframe tbody tr th:only-of-type {\n",
       "        vertical-align: middle;\n",
       "    }\n",
       "\n",
       "    .dataframe tbody tr th {\n",
       "        vertical-align: top;\n",
       "    }\n",
       "\n",
       "    .dataframe thead th {\n",
       "        text-align: right;\n",
       "    }\n",
       "</style>\n",
       "<table border=\"1\" class=\"dataframe\">\n",
       "  <thead>\n",
       "    <tr style=\"text-align: right;\">\n",
       "      <th></th>\n",
       "      <th>0</th>\n",
       "      <th>1</th>\n",
       "    </tr>\n",
       "  </thead>\n",
       "  <tbody>\n",
       "    <tr>\n",
       "      <th>0</th>\n",
       "      <td>Homebody: A Guide to Creating Spaces You Never...</td>\n",
       "      <td>https://www.amazon.com/Homebody-Guide-Creating...</td>\n",
       "    </tr>\n",
       "    <tr>\n",
       "      <th>1</th>\n",
       "      <td>Beastie Boys Book</td>\n",
       "      <td>https://www.amazon.com/Beastie-Boys-Book-Micha...</td>\n",
       "    </tr>\n",
       "    <tr>\n",
       "      <th>2</th>\n",
       "      <td>Hindsight: &amp; All the Things I Can't See in Fro...</td>\n",
       "      <td>https://www.amazon.com/Hindsight-All-Things-Ca...</td>\n",
       "    </tr>\n",
       "    <tr>\n",
       "      <th>3</th>\n",
       "      <td>The 5 Love Languages: The Secret to Love that ...</td>\n",
       "      <td>https://www.amazon.com/Love-Languages-Secret-t...</td>\n",
       "    </tr>\n",
       "    <tr>\n",
       "      <th>4</th>\n",
       "      <td>Whiskey in a Teacup: What Growing Up in the So...</td>\n",
       "      <td>https://www.amazon.com/Whiskey-Teacup-Growing-...</td>\n",
       "    </tr>\n",
       "    <tr>\n",
       "      <th>5</th>\n",
       "      <td>Shade: A Tale of Two Presidents</td>\n",
       "      <td>https://www.amazon.com/Shade-Tale-Presidents-P...</td>\n",
       "    </tr>\n",
       "    <tr>\n",
       "      <th>6</th>\n",
       "      <td>Cozy Minimalist Home: More Style, Less Stuff</td>\n",
       "      <td>https://www.amazon.com/Cozy-Minimalist-Home-St...</td>\n",
       "    </tr>\n",
       "    <tr>\n",
       "      <th>7</th>\n",
       "      <td>National Geographic The Photo Ark: One Man's Q...</td>\n",
       "      <td>https://www.amazon.com/National-Geographic-Pho...</td>\n",
       "    </tr>\n",
       "    <tr>\n",
       "      <th>8</th>\n",
       "      <td>Katie Daisy 2018 - 2019 On-the-Go Weekly Plann...</td>\n",
       "      <td>https://www.amazon.com/Katie-Daisy-2018-Go-17-...</td>\n",
       "    </tr>\n",
       "    <tr>\n",
       "      <th>9</th>\n",
       "      <td>Dungeons and Dragons Art and Arcana [Special E...</td>\n",
       "      <td>https://www.amazon.com/Dungeons-Dragons-Arcana...</td>\n",
       "    </tr>\n",
       "    <tr>\n",
       "      <th>10</th>\n",
       "      <td>Lettering and Modern Calligraphy: A Beginner's...</td>\n",
       "      <td>https://www.amazon.com/Lettering-Modern-Callig...</td>\n",
       "    </tr>\n",
       "    <tr>\n",
       "      <th>11</th>\n",
       "      <td>Dungeons and Dragons Art and Arcana: A Visual ...</td>\n",
       "      <td>https://www.amazon.com/Dungeons-Dragons-Art-Ar...</td>\n",
       "    </tr>\n",
       "  </tbody>\n",
       "</table>\n",
       "</div>"
      ],
      "text/plain": [
       "                                                    0  \\\n",
       "0   Homebody: A Guide to Creating Spaces You Never...   \n",
       "1                                   Beastie Boys Book   \n",
       "2   Hindsight: & All the Things I Can't See in Fro...   \n",
       "3   The 5 Love Languages: The Secret to Love that ...   \n",
       "4   Whiskey in a Teacup: What Growing Up in the So...   \n",
       "5                     Shade: A Tale of Two Presidents   \n",
       "6        Cozy Minimalist Home: More Style, Less Stuff   \n",
       "7   National Geographic The Photo Ark: One Man's Q...   \n",
       "8   Katie Daisy 2018 - 2019 On-the-Go Weekly Plann...   \n",
       "9   Dungeons and Dragons Art and Arcana [Special E...   \n",
       "10  Lettering and Modern Calligraphy: A Beginner's...   \n",
       "11  Dungeons and Dragons Art and Arcana: A Visual ...   \n",
       "\n",
       "                                                    1  \n",
       "0   https://www.amazon.com/Homebody-Guide-Creating...  \n",
       "1   https://www.amazon.com/Beastie-Boys-Book-Micha...  \n",
       "2   https://www.amazon.com/Hindsight-All-Things-Ca...  \n",
       "3   https://www.amazon.com/Love-Languages-Secret-t...  \n",
       "4   https://www.amazon.com/Whiskey-Teacup-Growing-...  \n",
       "5   https://www.amazon.com/Shade-Tale-Presidents-P...  \n",
       "6   https://www.amazon.com/Cozy-Minimalist-Home-St...  \n",
       "7   https://www.amazon.com/National-Geographic-Pho...  \n",
       "8   https://www.amazon.com/Katie-Daisy-2018-Go-17-...  \n",
       "9   https://www.amazon.com/Dungeons-Dragons-Arcana...  \n",
       "10  https://www.amazon.com/Lettering-Modern-Callig...  \n",
       "11  https://www.amazon.com/Dungeons-Dragons-Art-Ar...  "
      ]
     },
     "execution_count": 153,
     "metadata": {},
     "output_type": "execute_result"
    }
   ],
   "source": [
    "pd.DataFrame([dicBook.keys(),dicBook.values()]).transpose()"
   ]
  },
  {
   "cell_type": "code",
   "execution_count": 126,
   "metadata": {},
   "outputs": [
    {
     "data": {
      "text/plain": [
       "'https://www.amazon.com/Dungeons-Dragons-Art-Arcana-History/dp/0399580948/ref=lp_1_1_12/136-4231815-0885743?s=books&ie=UTF8&qid=1541910523&sr=1-12'"
      ]
     },
     "execution_count": 126,
     "metadata": {},
     "output_type": "execute_result"
    }
   ],
   "source": [
    "bookLink"
   ]
  },
  {
   "cell_type": "code",
   "execution_count": null,
   "metadata": {},
   "outputs": [],
   "source": []
  },
  {
   "cell_type": "code",
   "execution_count": 127,
   "metadata": {},
   "outputs": [
    {
     "data": {
      "text/plain": [
       "'Dungeons and Dragons Art and Arcana: A Visual History'"
      ]
     },
     "execution_count": 127,
     "metadata": {},
     "output_type": "execute_result"
    }
   ],
   "source": [
    "bookTitle"
   ]
  },
  {
   "cell_type": "code",
   "execution_count": 130,
   "metadata": {},
   "outputs": [],
   "source": [
    "dicBook = {}\n",
    "dicBook[bookTitle] = bookLink"
   ]
  },
  {
   "cell_type": "code",
   "execution_count": 133,
   "metadata": {},
   "outputs": [
    {
     "data": {
      "text/plain": [
       "{'Dungeons and Dragons Art and Arcana: A Visual History': 'https://www.amazon.com/Dungeons-Dragons-Art-Arcana-History/dp/0399580948/ref=lp_1_1_12/136-4231815-0885743?s=books&ie=UTF8&qid=1541910523&sr=1-12'}"
      ]
     },
     "execution_count": 133,
     "metadata": {},
     "output_type": "execute_result"
    }
   ],
   "source": [
    "dicBook"
   ]
  },
  {
   "cell_type": "code",
   "execution_count": 84,
   "metadata": {},
   "outputs": [
    {
     "data": {
      "text/plain": [
       "[<a class=\"a-link-normal s-access-detail-page s-color-twister-title-link a-text-normal\" href=\"https://www.amazon.com/Beastie-Boys-Book-Michael-Diamond/dp/0812995546/ref=lp_1_1_1/142-6347245-5465727?s=books&amp;ie=UTF8&amp;qid=1541611129&amp;sr=1-1\" title=\"Beastie Boys Book\"><h2 class=\"a-size-medium s-inline s-access-title a-text-normal\" data-attribute=\"Beastie Boys Book\" data-max-rows=\"0\">Beastie Boys Book</h2></a>,\n",
       " <a class=\"a-link-normal s-access-detail-page s-color-twister-title-link a-text-normal\" href=\"https://www.amazon.com/Homebody-Guide-Creating-Spaces-Never/dp/006280197X/ref=lp_1_1_2/142-6347245-5465727?s=books&amp;ie=UTF8&amp;qid=1541611129&amp;sr=1-2\" title=\"Homebody: A Guide to Creating Spaces You Never Want to Leave\"><h2 class=\"a-size-medium s-inline s-access-title a-text-normal\" data-attribute=\"Homebody: A Guide to Creating Spaces You Never Want to Leave\" data-max-rows=\"0\">Homebody: A Guide to Creating Spaces You Never Want to Leave</h2></a>,\n",
       " <a class=\"a-link-normal s-access-detail-page s-color-twister-title-link a-text-normal\" href=\"https://www.amazon.com/Hindsight-All-Things-Cant-Front/dp/0062448307/ref=lp_1_1_3/142-6347245-5465727?s=books&amp;ie=UTF8&amp;qid=1541611129&amp;sr=1-3\" title=\"Hindsight: &amp; All the Things I Can't See in Front of Me\"><h2 class=\"a-size-medium s-inline s-access-title a-text-normal\" data-attribute=\"Hindsight: &amp; All the Things I Can't See in Front of Me\" data-max-rows=\"0\">Hindsight: &amp; All the Things I Can't See in Front of Me</h2></a>,\n",
       " <a class=\"a-link-normal s-access-detail-page s-color-twister-title-link a-text-normal\" href=\"https://www.amazon.com/Love-Languages-Secret-that-Lasts/dp/080241270X/ref=lp_1_1_4/142-6347245-5465727?s=books&amp;ie=UTF8&amp;qid=1541611129&amp;sr=1-4\" title=\"The 5 Love Languages: The Secret to Love that Lasts\"><h2 class=\"a-size-medium s-inline s-access-title a-text-normal\" data-attribute=\"The 5 Love Languages: The Secret to Love that Lasts\" data-max-rows=\"0\">The 5 Love Languages: The Secret to Love that Lasts</h2></a>,\n",
       " <a class=\"a-link-normal s-access-detail-page s-color-twister-title-link a-text-normal\" href=\"https://www.amazon.com/Whiskey-Teacup-Growing-Taught-Biscuits/dp/1501166271/ref=lp_1_1_5/142-6347245-5465727?s=books&amp;ie=UTF8&amp;qid=1541611129&amp;sr=1-5\" title=\"Whiskey in a Teacup: What Growing Up in the South Taught Me About Life, Love, and Baking Biscuits\"><h2 class=\"a-size-medium s-inline s-access-title a-text-normal\" data-attribute=\"Whiskey in a Teacup: What Growing Up in the South Taught Me About Life, Love, and Baking Biscuits\" data-max-rows=\"2\">Whiskey in a Teacup: What Growing Up in the South Taught Me About Life, Love, and Baking Biscuits</h2></a>,\n",
       " <a class=\"a-link-normal s-access-detail-page s-color-twister-title-link a-text-normal\" href=\"https://www.amazon.com/Shade-Tale-Presidents-Pete-Souza/dp/0316421820/ref=lp_1_1_6/142-6347245-5465727?s=books&amp;ie=UTF8&amp;qid=1541611129&amp;sr=1-6\" title=\"Shade: A Tale of Two Presidents\"><h2 class=\"a-size-medium s-inline s-access-title a-text-normal\" data-attribute=\"Shade: A Tale of Two Presidents\" data-max-rows=\"0\">Shade: A Tale of Two Presidents</h2></a>,\n",
       " <a class=\"a-link-normal s-access-detail-page s-color-twister-title-link a-text-normal\" href=\"https://www.amazon.com/Cozy-Minimalist-Home-Style-Stuff/dp/0310350913/ref=lp_1_1_7/142-6347245-5465727?s=books&amp;ie=UTF8&amp;qid=1541611129&amp;sr=1-7\" title=\"Cozy Minimalist Home: More Style, Less Stuff\"><h2 class=\"a-size-medium s-inline s-access-title a-text-normal\" data-attribute=\"Cozy Minimalist Home: More Style, Less Stuff\" data-max-rows=\"0\">Cozy Minimalist Home: More Style, Less Stuff</h2></a>,\n",
       " <a class=\"a-link-normal s-access-detail-page s-color-twister-title-link a-text-normal\" href=\"https://www.amazon.com/National-Geographic-Photo-Ark-Document/dp/1426217773/ref=lp_1_1_8/142-6347245-5465727?s=books&amp;ie=UTF8&amp;qid=1541611129&amp;sr=1-8\" title=\"National Geographic The Photo Ark: One Man's Quest to Document the World's Animals\"><h2 class=\"a-size-medium s-inline s-access-title a-text-normal\" data-attribute=\"National Geographic The Photo Ark: One Man's Quest to Document the World's Animals\" data-max-rows=\"0\">National Geographic The Photo Ark: One Man's Quest to Document the World's Animals</h2></a>,\n",
       " <a class=\"a-link-normal s-access-detail-page s-color-twister-title-link a-text-normal\" href=\"https://www.amazon.com/Dungeons-Dragons-Arcana-Special-Ephemera/dp/0399582754/ref=lp_1_1_9/142-6347245-5465727?s=books&amp;ie=UTF8&amp;qid=1541611129&amp;sr=1-9\" title=\"Dungeons and Dragons Art and Arcana [Special Edition, Boxed Book &amp; Ephemera Set]: A Visual History\"><h2 class=\"a-size-medium s-inline s-access-title a-text-normal\" data-attribute=\"Dungeons and Dragons Art and Arcana [Special Edition, Boxed Book &amp; Ephemera Set]: A Visual History\" data-max-rows=\"2\">Dungeons and Dragons Art and Arcana [Special Edition, Boxed Book &amp; Ephemera Set]: A Visual History</h2></a>,\n",
       " <a class=\"a-link-normal s-access-detail-page s-color-twister-title-link a-text-normal\" href=\"https://www.amazon.com/Katie-Daisy-2018-Go-17-Month/dp/1631363867/ref=lp_1_1_10/142-6347245-5465727?s=books&amp;ie=UTF8&amp;qid=1541611129&amp;sr=1-10\" title=\"Katie Daisy 2018 - 2019 On-the-Go Weekly Planner: 17-Month Calendar with Pocket (Aug 2018 - Dec 2019, 5 x 7 closed)\"><h2 class=\"a-size-medium s-inline s-access-title a-text-normal\" data-attribute=\"Katie Daisy 2018 - 2019 On-the-Go Weekly Planner: 17-Month Calendar with Pocket (Aug 2018 - Dec 2019, 5 x 7 closed)\" data-max-rows=\"2\">Katie Daisy 2018 - 2019 On-the-Go Weekly Planner: 17-Month Calendar with Pocket (Aug 2018 - Dec 2019, 5 x 7 closed)</h2></a>,\n",
       " <a class=\"a-link-normal s-access-detail-page s-color-twister-title-link a-text-normal\" href=\"https://www.amazon.com/Dungeons-Dragons-Art-Arcana-History/dp/0399580948/ref=lp_1_1_11/142-6347245-5465727?s=books&amp;ie=UTF8&amp;qid=1541611129&amp;sr=1-11\" title=\"Dungeons and Dragons Art and Arcana: A Visual History\"><h2 class=\"a-size-medium s-inline s-access-title a-text-normal\" data-attribute=\"Dungeons and Dragons Art and Arcana: A Visual History\" data-max-rows=\"0\">Dungeons and Dragons Art and Arcana: A Visual History</h2></a>,\n",
       " <a class=\"a-link-normal s-access-detail-page s-color-twister-title-link a-text-normal\" href=\"https://www.amazon.com/Lettering-Modern-Calligraphy-Beginners-Guide/dp/1948209004/ref=lp_1_1_12/142-6347245-5465727?s=books&amp;ie=UTF8&amp;qid=1541611129&amp;sr=1-12\" title=\"Lettering and Modern Calligraphy: A Beginner's Guide: Learn Hand Lettering and Brush Lettering\"><h2 class=\"a-size-medium s-inline s-access-title a-text-normal\" data-attribute=\"Lettering and Modern Calligraphy: A Beginner's Guide: Learn Hand Lettering and Brush Lettering\" data-max-rows=\"2\">Lettering and Modern Calligraphy: A Beginner's Guide: Learn Hand Lettering and Brush Lettering</h2></a>]"
      ]
     },
     "execution_count": 84,
     "metadata": {},
     "output_type": "execute_result"
    }
   ],
   "source": [
    "list1"
   ]
  },
  {
   "cell_type": "code",
   "execution_count": null,
   "metadata": {},
   "outputs": [],
   "source": []
  }
 ],
 "metadata": {
  "kernelspec": {
   "display_name": "Python 3",
   "language": "python",
   "name": "python3"
  },
  "language_info": {
   "codemirror_mode": {
    "name": "ipython",
    "version": 3
   },
   "file_extension": ".py",
   "mimetype": "text/x-python",
   "name": "python",
   "nbconvert_exporter": "python",
   "pygments_lexer": "ipython3",
   "version": "3.7.0"
  }
 },
 "nbformat": 4,
 "nbformat_minor": 2
}
