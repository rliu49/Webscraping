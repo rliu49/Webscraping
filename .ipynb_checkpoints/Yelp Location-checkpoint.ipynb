{
 "cells": [
  {
   "cell_type": "code",
   "execution_count": 10,
   "metadata": {},
   "outputs": [],
   "source": [
    "from bs4 import BeautifulSoup\n",
    "import requests\n",
    "from lxml import html\n",
    "from urllib.request import Request, urlopen\n",
    "import urllib.request\n",
    "from selenium import webdriver"
   ]
  },
  {
   "cell_type": "code",
   "execution_count": null,
   "metadata": {},
   "outputs": [],
   "source": []
  },
  {
   "cell_type": "code",
   "execution_count": 11,
   "metadata": {},
   "outputs": [],
   "source": [
    "location = \"New Orleans\""
   ]
  },
  {
   "cell_type": "code",
   "execution_count": 12,
   "metadata": {},
   "outputs": [],
   "source": [
    "def getLinkList(location):\n",
    "    url = \"https://www.yelp.com/\"\n",
    "    page = requests.get(url)\n",
    "\n",
    "    #Browser\n",
    "\n",
    "    options = webdriver.ChromeOptions()\n",
    "    options.add_argument('--headless')\n",
    "\n",
    "    browser = webdriver.Chrome(executable_path = \"/Users/zishuoli/Documents/projects/webscraping/chromedriver\",options=options)\n",
    "\n",
    "    browser.get(url)\n",
    "    innerHTML = browser.page_source\n",
    "\n",
    "    soup = BeautifulSoup(innerHTML,'lxml')\n",
    "\n",
    "\n",
    "    locationButton = browser.find_element_by_id(\"dropperText_Mast\")\n",
    "\n",
    "    locationButton.send_keys(location)\n",
    "\n",
    "    searchButton = browser.find_element_by_id(\"header-search-submit\")\n",
    "\n",
    "    searchButton.click()\n",
    "\n",
    "    #Rest in New Orleans\n",
    "    restNO = browser.current_url\n",
    "\n",
    "    innerHTML1 = browser.page_source\n",
    "\n",
    "    soupChild = BeautifulSoup(innerHTML1,'lxml')\n",
    "\n",
    "    linkList = soupChild.select(\".indexed-biz-name\")\n",
    "    return linkList"
   ]
  },
  {
   "cell_type": "code",
   "execution_count": 13,
   "metadata": {},
   "outputs": [],
   "source": [
    "def getDicRest(linkList):\n",
    "    \n",
    "    dictRest = {}\n",
    "\n",
    "    for tag in linkList:\n",
    "        titleRest = tag.text\n",
    "        resthref = tag.find(\"a\").attrs.get(\"href\")\n",
    "\n",
    "        baseurl = \"http://www.yelp.com\"\n",
    "        restLink = baseurl + resthref\n",
    "\n",
    "        dictRest[titleRest] = restLink\n",
    "\n",
    "    return dictRest"
   ]
  },
  {
   "cell_type": "code",
   "execution_count": 14,
   "metadata": {},
   "outputs": [],
   "source": [
    "def mimicbrowser(url):\n",
    "    options = webdriver.ChromeOptions()\n",
    "    options.add_argument('--headless')\n",
    "\n",
    "    browser = webdriver.Chrome(executable_path = \"/Users/zishuoli/Documents/projects/webscraping/chromedriver\",options=options)\n",
    "\n",
    "    browser.get(url)\n",
    "    innerHTML = browser.page_source\n",
    "    browser.close()\n",
    "    return innerHTML"
   ]
  },
  {
   "cell_type": "code",
   "execution_count": 19,
   "metadata": {},
   "outputs": [],
   "source": [
    "def getReviewFromRestUrl(url):\n",
    "    pageContent = mimicbrowser(url)\n",
    "    \n",
    "    soupReview = BeautifulSoup(pageContent,'lxml')\n",
    "    reviewcontent = soupReview.select(\".review-content\")\n",
    "    ReviewList = []\n",
    "    for tag in reviewcontent:\n",
    "        tmpReview = tag.find('p').text\n",
    "        ReviewList.append(tmpReview)\n",
    "\n",
    "    return ReviewList\n",
    "    "
   ]
  },
  {
   "cell_type": "code",
   "execution_count": 20,
   "metadata": {},
   "outputs": [],
   "source": [
    "def loopOverDicRest(dictRest):\n",
    "    dicReview = {}\n",
    "    for rest in dictRest.keys():\n",
    "        dicReview[rest] = getReviewFromRestUrl(dictRest[rest])\n",
    "        print(rest)\n",
    "    return dicReview"
   ]
  },
  {
   "cell_type": "code",
   "execution_count": 21,
   "metadata": {},
   "outputs": [],
   "source": [
    "def main(location):\n",
    "    \n",
    "    linkList = getLinkList(location)\n",
    "    \n",
    "    DictRest = getDicRest(linkList) \n",
    "    print(DictRest)\n",
    "    \n",
    "    answer = loopOverDicRest(DictRest)\n",
    "    \n",
    "    return answer"
   ]
  },
  {
   "cell_type": "code",
   "execution_count": 22,
   "metadata": {},
   "outputs": [
    {
     "name": "stdout",
     "output_type": "stream",
     "text": [
      "{}\n"
     ]
    }
   ],
   "source": [
    "final = main(location)"
   ]
  },
  {
   "cell_type": "code",
   "execution_count": 23,
   "metadata": {},
   "outputs": [
    {
     "data": {
      "text/plain": [
       "[]"
      ]
     },
     "execution_count": 23,
     "metadata": {},
     "output_type": "execute_result"
    }
   ],
   "source": [
    "list(final.keys())"
   ]
  },
  {
   "cell_type": "code",
   "execution_count": null,
   "metadata": {},
   "outputs": [],
   "source": []
  }
 ],
 "metadata": {
  "kernelspec": {
   "display_name": "Python 3",
   "language": "python",
   "name": "python3"
  },
  "language_info": {
   "codemirror_mode": {
    "name": "ipython",
    "version": 3
   },
   "file_extension": ".py",
   "mimetype": "text/x-python",
   "name": "python",
   "nbconvert_exporter": "python",
   "pygments_lexer": "ipython3",
   "version": "3.7.0"
  }
 },
 "nbformat": 4,
 "nbformat_minor": 2
}
