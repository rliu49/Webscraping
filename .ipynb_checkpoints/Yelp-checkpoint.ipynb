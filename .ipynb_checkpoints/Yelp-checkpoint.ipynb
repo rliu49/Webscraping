{
 "cells": [
  {
   "cell_type": "code",
   "execution_count": 1,
   "metadata": {},
   "outputs": [],
   "source": [
    "from bs4 import BeautifulSoup\n",
    "import requests\n",
    "from lxml import html\n",
    "from urllib.request import Request, urlopen\n",
    "import urllib.request\n",
    "from selenium import webdriver\n"
   ]
  },
  {
   "cell_type": "code",
   "execution_count": 2,
   "metadata": {},
   "outputs": [],
   "source": [
    "url = \"https://www.yelp.com/search?find_desc=Restaurants&find_loc=Downtown%2C+Boston%2C+MA+02228&ns=1\""
   ]
  },
  {
   "cell_type": "code",
   "execution_count": 3,
   "metadata": {},
   "outputs": [],
   "source": [
    "page = requests.get(url)\n"
   ]
  },
  {
   "cell_type": "code",
   "execution_count": 12,
   "metadata": {},
   "outputs": [],
   "source": [
    "options = webdriver.ChromeOptions()\n",
    "options.add_argument('--headless')\n",
    "\n",
    "browser = webdriver.Chrome(executable_path=\"/Users/zishuoli/Documents/projects/webscraping/chromedriver\")\n",
    "\n",
    "browser.get(url)\n",
    "innerHTML = browser.page_source\n",
    "\n",
    "soup = BeautifulSoup(innerHTML,'lxml')\n"
   ]
  },
  {
   "cell_type": "code",
   "execution_count": 13,
   "metadata": {},
   "outputs": [],
   "source": [
    "linkList = soup.select(\".lemon--h3__373c0__5Q5tF heading--h3__373c0__1n4Of alternate__373c0__1uacp\".replace(\" \",\".\"))\n"
   ]
  },
  {
   "cell_type": "code",
   "execution_count": 11,
   "metadata": {},
   "outputs": [],
   "source": [
    "baseurl = \"https://www.yelp.com\""
   ]
  },
  {
   "cell_type": "code",
   "execution_count": 7,
   "metadata": {},
   "outputs": [],
   "source": [
    "fullLinks =[]\n",
    "for link in linkList:\n",
    "    tmpPath = link.find(\"a\").attrs.get(\"href\")\n",
    "    finalPath = baseurl + tmpPath\n",
    "    if finalPath.startswith(\"https://www.yelp.com/adredir\"):\n",
    "        continue\n",
    "    else:\n",
    "        fullLinks.append(baseurl+tmpPath)"
   ]
  },
  {
   "cell_type": "code",
   "execution_count": 8,
   "metadata": {},
   "outputs": [
    {
     "data": {
      "text/plain": [
       "[]"
      ]
     },
     "execution_count": 8,
     "metadata": {},
     "output_type": "execute_result"
    }
   ],
   "source": [
    "\n",
    "fullLinks"
   ]
  },
  {
   "cell_type": "code",
   "execution_count": 19,
   "metadata": {},
   "outputs": [],
   "source": [
    "def mimicBrower(url):\n",
    "    options = webdriver.ChromeOptions()\n",
    "    options.add_argument('--headless')\n",
    "\n",
    "    browser = webdriver.Chrome(executable_path=\"/Users/zishuoli/Documents/projects/webscraping/chromedriver\",options=options)\n",
    "\n",
    "    browser.get(url)\n",
    "    innerHTML = browser.page_source\n",
    "\n",
    "    return innerHTML"
   ]
  },
  {
   "cell_type": "code",
   "execution_count": 20,
   "metadata": {},
   "outputs": [],
   "source": [
    "contentPage = mimicBrower(fullLinks[0])"
   ]
  },
  {
   "cell_type": "code",
   "execution_count": 21,
   "metadata": {},
   "outputs": [],
   "source": [
    "soupReview = BeautifulSoup(contentPage,'lxml')"
   ]
  },
  {
   "cell_type": "code",
   "execution_count": 22,
   "metadata": {},
   "outputs": [],
   "source": [
    "reviewClass = \".review-content\"\n",
    "ReviewList = soupReview.select(reviewClass)"
   ]
  },
  {
   "cell_type": "code",
   "execution_count": 23,
   "metadata": {},
   "outputs": [],
   "source": [
    "review = ReviewList[0]"
   ]
  },
  {
   "cell_type": "code",
   "execution_count": 24,
   "metadata": {},
   "outputs": [
    {
     "data": {
      "text/plain": [
       "\"Love Carmelina's!The service was fabulous and the food was to die for. I can't wait to go back! Also fun to just grab a drink or an app at the bar!\""
      ]
     },
     "execution_count": 24,
     "metadata": {},
     "output_type": "execute_result"
    }
   ],
   "source": [
    "review.find(\"p\").text"
   ]
  },
  {
   "cell_type": "code",
   "execution_count": null,
   "metadata": {},
   "outputs": [],
   "source": []
  }
 ],
 "metadata": {
  "kernelspec": {
   "display_name": "Python 3",
   "language": "python",
   "name": "python3"
  },
  "language_info": {
   "codemirror_mode": {
    "name": "ipython",
    "version": 3
   },
   "file_extension": ".py",
   "mimetype": "text/x-python",
   "name": "python",
   "nbconvert_exporter": "python",
   "pygments_lexer": "ipython3",
   "version": "3.7.0"
  }
 },
 "nbformat": 4,
 "nbformat_minor": 2
}
